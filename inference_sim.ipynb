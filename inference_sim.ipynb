{
 "cells": [
  {
   "cell_type": "code",
   "execution_count": null,
   "metadata": {},
   "outputs": [],
   "source": [
    "import numpy as np\n",
    "import robotic as ry\n",
    "from tqdm import tqdm\n",
    "import matplotlib.pyplot as plt\n",
    "from Robotic_Manipulation.shelf import generate_target_box"
   ]
  },
  {
   "cell_type": "code",
   "execution_count": null,
   "metadata": {},
   "outputs": [],
   "source": [
    "# Define the new config\n",
    "C = ry.Config()\n",
    "C.addFile(ry.raiPath(\"scenarios/pandaSingle.g\"))\n",
    "\n",
    "generate_target_box(C, [-.3, .3, .75])\n",
    "\n",
    "box_frame = C.addFrame(\"box\") \\\n",
    "    .setPosition([.3, .3, .8]) \\\n",
    "    .setShape(ry.ST.ssBox, size=[.05, .05, .12, .001]) \\\n",
    "    .setColor([1., 1., 0.]) \\\n",
    "    .setContact(1) \\\n",
    "    .setMass(1.)\n",
    "\n",
    "# For convenience, a few definitions:\n",
    "gripper = \"l_gripper\"\n",
    "box = \"box\"\n",
    "table = \"table\"\n",
    "\n",
    "C.view()\n",
    "\n",
    "bot = ry.BotOp(C, False)\n",
    "bot.home(C)\n",
    "bot.gripperMove(ry._left)\n",
    "while not bot.gripperDone(ry._left):\n",
    "    bot.sync(C)\n",
    "qHome = C.getJointState()"
   ]
  },
  {
   "cell_type": "code",
   "execution_count": null,
   "metadata": {},
   "outputs": [],
   "source": [
    "autoencoder = Autoencoder(latent_dim=LATENT_DIM).to(device)\n",
    "autoencoder.load_state_dict(torch.load('./models/autoencoder_sim.pth', map_location=device))\n",
    "\n",
    "with open('./models/ridge_model.pkl', 'rb') as file:\n",
    "    ridge_model = pickle.load(file)"
   ]
  },
  {
   "cell_type": "code",
   "execution_count": null,
   "metadata": {},
   "outputs": [],
   "source": [
    "for i in range(100):\n",
    "    # Get input data\n",
    "    frame, depth = bot.getImageAndDepth(\"cameraTop\")\n",
    "    image = cv2.cvtColor(frame, cv2.COLOR_BGR2RGB)\n",
    "    image = cv2.resize(image, (IMAGE_RESIZE, IMAGE_RESIZE))\n",
    "    image = image/255.0\n",
    "    image = np.transpose(image, (2, 0, 1))  # HWC to CHW\n",
    "\n",
    "    # Perform inference\n",
    "    latent_im = autoencoder.encode(torch.Tensor([image]).to(device))\n",
    "    latent_im = latent_im.detach().cpu().numpy()\n",
    "    waypoints = ridge_model.predict(latent_im)[0].reshape(-1, 3)\n",
    "    print(waypoints.shape)\n",
    "    for i, way in enumerate(waypoints):\n",
    "        frame = C.getFrame(f\"way{i}\")\n",
    "        if frame:\n",
    "            frame.setPosition(way)\n",
    "            print(way)\n",
    "        else:\n",
    "            frame = C.addFrame(f\"way{i}\").setShape(ry.ST.marker, [.2]).setPosition(way)\n",
    "        if i == 0:\n",
    "            frame.setColor([1., 0., 0., 1.])\n",
    "    C.view()\n",
    "    del bot\n",
    "    x_dev = np.random.random() * .4 -.2\n",
    "    y_dev = np.random.random() * .3 -.15\n",
    "    box_frame.setQuaternion([1., 0., 0., 0.])\n",
    "    box_frame.setPosition([.3 + x_dev, .3 + y_dev, .8])\n",
    "    C.setJointState(qHome)\n",
    "    C.view()\n",
    "    bot = ry.BotOp(C, useRealRobot=False)\n",
    "    bot.home(C)\n",
    "    bot.gripperMove(ry._left)\n",
    "    bot.sync(C, 2.)"
   ]
  },
  {
   "cell_type": "code",
   "execution_count": null,
   "metadata": {},
   "outputs": [],
   "source": [
    "# Go through waypoints\n",
    "komo = ry.KOMO(C, waypoints.shape[0], 20, 2, False)\n",
    "komo.addControlObjective([], 1, .1)\n",
    "komo.addControlObjective([], 2, .01)\n",
    "\n",
    "for i, way in enumerate(waypoints):\n",
    "    komo.addObjective([i+1.], ry.FS.position, [\"l_gripper\"], ry.OT.eq, [1e1], way)\n",
    "\n",
    "komo.addObjective([1., waypoints.shape[0]], ry.FS.vectorZ, [\"l_gripper\"], ry.OT.eq, [1e1], [0, 0, 1])\n",
    "\n",
    "sol = ry.NLP_Solver()\n",
    "sol.setProblem(komo.nlp())\n",
    "sol.setOptions(damping=1e-3, verbose=0, stopTolerance=1e-3, maxLambda=100., stopEvals=200)\n",
    "ret = sol.solve()\n",
    "\n",
    "if ret.feasible:\n",
    "    print(\"Feasible\")\n",
    "    bot.move(komo.getPath(), [10.])\n",
    "    bot.wait(C)\n",
    "    bot.home(C)\n",
    "else:\n",
    "    print(\"Path infeasible!\")"
   ]
  }
 ],
 "metadata": {
  "kernelspec": {
   "display_name": "lerobot",
   "language": "python",
   "name": "python3"
  },
  "language_info": {
   "name": "python",
   "version": "3.10.14"
  }
 },
 "nbformat": 4,
 "nbformat_minor": 2
}
